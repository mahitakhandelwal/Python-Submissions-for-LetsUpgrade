{
 "cells": [
  {
   "cell_type": "code",
   "execution_count": 1,
   "metadata": {},
   "outputs": [
    {
     "name": "stdout",
     "output_type": "stream",
     "text": [
      "The data inside file1 : \n",
      " Hello ,\n",
      "This is the content from first file \n",
      "The data inside file2 : \n",
      " right now u r in second file \n",
      "So finaly u have completed\n",
      "The data has been succesfully written inside third file\n"
     ]
    }
   ],
   "source": [
    "#1.)Write a Python program to merge two files into a third file.\n",
    "f1=open(\"D:\\\\Lets Upgrade\\\\Python Submissions\\\\file1.txt\")\n",
    "data1=f1.read()\n",
    "print(\"The data inside file1 : \\n\",data1)\n",
    "f2=open(\"D:\\\\Lets Upgrade\\\\Python Submissions\\\\file2.txt\")\n",
    "data2=f2.read()\n",
    "print(\"The data inside file2 : \\n\",data2)\n",
    "f3=open(\"D:\\\\Lets Upgrade\\\\Python Submissions\\\\file3.txt\",mode='w+')\n",
    "f3.write(data1+'\\n'+data2)\n",
    "print(\"The data has been succesfully written inside third file\")\n",
    "f3.close()"
   ]
  },
  {
   "cell_type": "code",
   "execution_count": null,
   "metadata": {},
   "outputs": [],
   "source": [
    "#2.)Take two lists as input list1 = [1,2,3,4,5] and list2 = [\"a\", \"b\", \"c\", \"d\", \"e\"] From that make a\n",
    "#dictionary ouput {1:\"a\", 2:\"b\", 3:\"c\", 4:\"d\", 5:\"e\"}\n",
    "list1=[1,2,3,4]\n",
    "list2=['mahita','kushal','kanu bhai','antima didi']\n",
    "print(f\"List1 is : {list1} \\nList2 is : {list2} \")\n",
    "d={list1[i]:list2[i] for i in range(len(list1))}\n",
    "print(\"The dictionary created from both lists is:\\n\",d)"
   ]
  }
 ],
 "metadata": {
  "kernelspec": {
   "display_name": "Python 3",
   "language": "python",
   "name": "python3"
  },
  "language_info": {
   "codemirror_mode": {
    "name": "ipython",
    "version": 3
   },
   "file_extension": ".py",
   "mimetype": "text/x-python",
   "name": "python",
   "nbconvert_exporter": "python",
   "pygments_lexer": "ipython3",
   "version": "3.8.3"
  }
 },
 "nbformat": 4,
 "nbformat_minor": 4
}
