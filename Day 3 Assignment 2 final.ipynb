{
 "cells": [
  {
   "cell_type": "code",
   "execution_count": 1,
   "metadata": {},
   "outputs": [
    {
     "name": "stdout",
     "output_type": "stream",
     "text": [
      "The list before removing empty list is :  ['sdncnckn', [], 'mahita', 'radha', [], [], 'khusal']\n",
      "The list after removing empty list is :  ['sdncnckn', 'mahita', 'radha', 'khusal']\n"
     ]
    }
   ],
   "source": [
    "# 1.) Write a Python program to remove empty List from List.\n",
    "l=['sdncnckn',[],'mahita','radha',[],[],'khusal']\n",
    "print(\"The list before removing empty list is : \",l)\n",
    "n=l.count([])\n",
    "for i in range(n):\n",
    "    l.remove([])\n",
    "print(\"The list after removing empty list is : \",l)    "
   ]
  },
  {
   "cell_type": "code",
   "execution_count": 2,
   "metadata": {},
   "outputs": [
    {
     "name": "stdout",
     "output_type": "stream",
     "text": [
      "The string before removing duplicates :  Mahita and Kushal have pair of books and copies , both \n",
      "of them belong to Kushal .\n",
      "\n",
      "The string after removing duplicates :  Mahita and Kushal have pair of books copies , both them belong to .\n"
     ]
    }
   ],
   "source": [
    "#2) Write a Python program to remove all duplicates words from a given sentence.\n",
    "'''\n",
    "A counter is a sub-class of the dictionary. It is used to keep the\n",
    "count of the elements in an iterable in the form of an unordered \n",
    "dictionary where the key represents the element in the iterable \n",
    "and value represents the count of that element in the iterable.\n",
    "It is inside collection module .\n",
    "'''\n",
    "from collections import Counter\n",
    "s='''Mahita and Kushal have pair of books and copies , both \n",
    "of them belong to Kushal .'''\n",
    "print(\"The string before removing duplicates : \",s)\n",
    "s=s.split()\n",
    "new=Counter(s)\n",
    "new=\" \".join(new)\n",
    "print(\"\\nThe string after removing duplicates : \",new)"
   ]
  },
  {
   "cell_type": "code",
   "execution_count": 3,
   "metadata": {},
   "outputs": [
    {
     "name": "stdout",
     "output_type": "stream",
     "text": [
      "Enter the string : Mahita is a girl with manners and ettiquetes\n",
      "Enter the character whose occurences u want to see : m\n",
      "m is found at position  : 22\n"
     ]
    }
   ],
   "source": [
    "#3.) Write a Python program to find all occurrences of a character in the given string\n",
    "s=input(\"Enter the string : \")\n",
    "ch=input(\"Enter the character whose occurences u want to see : \")\n",
    "for i in range(len(s)):\n",
    "    if s[i]==ch:\n",
    "        print(ch,'is found at position  :',i)\n",
    "      \n"
   ]
  },
  {
   "cell_type": "code",
   "execution_count": null,
   "metadata": {},
   "outputs": [],
   "source": []
  }
 ],
 "metadata": {
  "kernelspec": {
   "display_name": "Python 3",
   "language": "python",
   "name": "python3"
  },
  "language_info": {
   "codemirror_mode": {
    "name": "ipython",
    "version": 3
   },
   "file_extension": ".py",
   "mimetype": "text/x-python",
   "name": "python",
   "nbconvert_exporter": "python",
   "pygments_lexer": "ipython3",
   "version": "3.8.3"
  }
 },
 "nbformat": 4,
 "nbformat_minor": 4
}
