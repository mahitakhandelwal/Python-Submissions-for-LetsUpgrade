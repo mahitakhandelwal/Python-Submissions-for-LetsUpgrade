{
 "cells": [
  {
   "cell_type": "code",
   "execution_count": 1,
   "metadata": {},
   "outputs": [
    {
     "name": "stdout",
     "output_type": "stream",
     "text": [
      "Enter number whose factorial u want to find : 5\n",
      "The facorial of  5  is  120\n"
     ]
    }
   ],
   "source": [
    "#Program to create factorial of a number\n",
    "num=int(input(\"Enter number whose factorial u want to find : \" ))\n",
    "factorial=1\n",
    "for i in range(1,num+1):\n",
    "\tfactorial=factorial*i\n",
    "print(\"The facorial of \",num,\" is \",factorial)"
   ]
  },
  {
   "cell_type": "code",
   "execution_count": 2,
   "metadata": {},
   "outputs": [
    {
     "name": "stdout",
     "output_type": "stream",
     "text": [
      "Enter till where u want to print prime numbers : 23\n",
      "3\n",
      "5\n",
      "7\n",
      "9\n",
      "11\n",
      "13\n",
      "15\n",
      "17\n",
      "19\n",
      "21\n",
      "23\n"
     ]
    }
   ],
   "source": [
    "#program to write all the prime numbers \n",
    "n=int(input(\"Enter till where u want to print prime numbers : \"))\n",
    "for j in range(2,n+1):\n",
    "\tfor i in range(2,j):\n",
    "\t\tif j%i==0:\n",
    "\t\t  break\n",
    "\t\telse:\n",
    "\t\t\tprint(j)\n",
    "\t\t\tbreak"
   ]
  },
  {
   "cell_type": "code",
   "execution_count": 3,
   "metadata": {},
   "outputs": [
    {
     "name": "stdout",
     "output_type": "stream",
     "text": [
      "Enter the number :12\n",
      "The sum of  12  natural numbers is :  78\n"
     ]
    }
   ],
   "source": [
    "#Program to print sum of n numbers using while loop\n",
    "n=int(input(\"Enter the number :\"))\n",
    "sum=0\n",
    "i=0\n",
    "while i<=n:\n",
    "\tsum=sum+i\n",
    "\ti=i+1\n",
    "print(\"The sum of \",n,\" natural numbers is : \",sum)\t"
   ]
  },
  {
   "cell_type": "code",
   "execution_count": null,
   "metadata": {},
   "outputs": [],
   "source": []
  }
 ],
 "metadata": {
  "kernelspec": {
   "display_name": "Python 3",
   "language": "python",
   "name": "python3"
  },
  "language_info": {
   "codemirror_mode": {
    "name": "ipython",
    "version": 3
   },
   "file_extension": ".py",
   "mimetype": "text/x-python",
   "name": "python",
   "nbconvert_exporter": "python",
   "pygments_lexer": "ipython3",
   "version": "3.8.3"
  }
 },
 "nbformat": 4,
 "nbformat_minor": 4
}
